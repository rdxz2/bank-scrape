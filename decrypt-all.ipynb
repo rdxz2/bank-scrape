{
 "cells": [
  {
   "cell_type": "code",
   "execution_count": null,
   "metadata": {},
   "outputs": [],
   "source": [
    "from PyPDF2 import PdfReader, PdfWriter"
   ]
  },
  {
   "cell_type": "code",
   "execution_count": null,
   "metadata": {},
   "outputs": [],
   "source": [
    "folder_name_encrypted = 'xxx'\n",
    "folder_name_decrypted = 'xxx_decrypted'\n",
    "password = 'xxx'\n",
    "\n",
    "import os\n",
    "import glob\n",
    "from datetime import datetime"
   ]
  },
  {
   "cell_type": "code",
   "execution_count": null,
   "metadata": {},
   "outputs": [],
   "source": [
    "os.makedirs(folder_name_decrypted, exist_ok=True)\n",
    "\n",
    "files = glob.glob(f'{folder_name_encrypted}/*.pdf')\n",
    "print(len(files))\n",
    "\n",
    "# Ecnrypt all files in the folder\n",
    "for file in files:\n",
    "    print(file)\n",
    "\n",
    "    base_filename = os.path.basename(file)\n",
    "    splitted = base_filename.split('_')\n",
    "\n",
    "    with open(file, 'rb') as f1:\n",
    "        pdf = PdfReader(f1)\n",
    "        if pdf.is_encrypted:\n",
    "            pdf.decrypt(password)\n",
    "        \n",
    "        with open(f'{folder_name_decrypted}/{os.path.basename(file)}', 'wb') as f2:\n",
    "            pdf_writer = PdfWriter()\n",
    "            pdf_writer.append_pages_from_reader(pdf)\n",
    "            pdf_writer.write(f2)"
   ]
  },
  {
   "cell_type": "code",
   "execution_count": null,
   "metadata": {},
   "outputs": [],
   "source": []
  }
 ],
 "metadata": {
  "kernelspec": {
   "display_name": "312",
   "language": "python",
   "name": "python3"
  },
  "language_info": {
   "codemirror_mode": {
    "name": "ipython",
    "version": 3
   },
   "file_extension": ".py",
   "mimetype": "text/x-python",
   "name": "python",
   "nbconvert_exporter": "python",
   "pygments_lexer": "ipython3",
   "version": "3.12.7"
  }
 },
 "nbformat": 4,
 "nbformat_minor": 2
}
