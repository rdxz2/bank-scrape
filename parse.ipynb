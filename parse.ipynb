{
 "cells": [
  {
   "cell_type": "code",
   "execution_count": null,
   "metadata": {},
   "outputs": [],
   "source": [
    "import glob\n",
    "import parse_bca_credit\n",
    "df1, cols1 = parse_bca_credit.parse(glob.glob('xxx/*.pdf'), 'xxx')\n",
    "df1.sort_values(df1.columns.tolist()).to_csv('xxx.csv', index=False)"
   ]
  },
  {
   "cell_type": "code",
   "execution_count": null,
   "metadata": {},
   "outputs": [],
   "source": [
    "import glob\n",
    "import parse_bca_credit\n",
    "df1, cols1 = parse_bca_credit.parse(glob.glob('xxx/*.pdf'), 'xxx')\n",
    "df1.sort_values(df1.columns.tolist()).to_csv('xxx.csv', index=False)"
   ]
  },
  {
   "cell_type": "code",
   "execution_count": null,
   "metadata": {},
   "outputs": [],
   "source": [
    "import glob\n",
    "import parse_bca_debit\n",
    "df2, cols2 = parse_bca_debit.parse(glob.glob('xxx/*.pdf'), 'xxx')\n",
    "df2.sort_values(df2.columns.to_list()).to_csv('xxx.csv', index=False)"
   ]
  },
  {
   "cell_type": "code",
   "execution_count": null,
   "metadata": {},
   "outputs": [],
   "source": [
    "import glob\n",
    "import parse_jenius_credit\n",
    "df, cols = parse_jenius_credit.parse(glob.glob('xxx/*.pdf'), 'xxx')\n",
    "df.sort_values(['settlement_date', 'order']).to_csv('xxx.csv', index=False)"
   ]
  },
  {
   "cell_type": "markdown",
   "metadata": {},
   "source": [
    "# Insertion to database\n"
   ]
  },
  {
   "cell_type": "code",
   "execution_count": null,
   "metadata": {},
   "outputs": [],
   "source": [
    "pg = PG('postgres-local-postgres')"
   ]
  }
 ],
 "metadata": {
  "kernelspec": {
   "display_name": "312",
   "language": "python",
   "name": "python3"
  },
  "language_info": {
   "codemirror_mode": {
    "name": "ipython",
    "version": 3
   },
   "file_extension": ".py",
   "mimetype": "text/x-python",
   "name": "python",
   "nbconvert_exporter": "python",
   "pygments_lexer": "ipython3",
   "version": "3.12.7"
  }
 },
 "nbformat": 4,
 "nbformat_minor": 2
}
